{
 "cells": [
  {
   "cell_type": "markdown",
   "metadata": {},
   "source": [
    "# Functional goals for 2019 Q2\n",
    "\n",
    "This notebook allows interactive exploration of the functionality targeted for the GROMACS master branch in 2019 Q2. \n",
    "\n",
    "For named features `fr0`, `fr1`, etcetera, you can build the `acceptance` docker image or download it from docker hub and run with, for example, `docker run --rm -p 8888:8888 gmxapi/acceptance:fr1`\n",
    "\n",
    "Note that there isn't a great way to use a Jupyter notebook as the front-end to an MPI job. The notebook can be converted to a script and run non-interactively.\n",
    "\n",
    "    jupyter nbconvert RequiredFunctionality.ipynb --to python\n",
    "    python RequiredFunctionality.py\n",
    "    # or\n",
    "    # mpiexec -n 2 python -m mpi4py RequiredFunctionality.py\n",
    "\n",
    "Before committing changes to this notebook, clear the output and/or run `python strip_notebook.py RequiredFunctionality.py`\n",
    "\n",
    "Cells with unimplemented features will raise `gmxapi.exceptions.FeatureError`,\n",
    "so an automated test can catch the first occurence of this exception and exit cleanly."
   ]
  }
 ],
 "metadata": {
  "kernelspec": {
   "display_name": "Python 3",
   "language": "python",
   "name": "python3"
  },
  "language_info": {
   "codemirror_mode": {
    "name": "ipython",
    "version": 3
   },
   "file_extension": ".py",
   "mimetype": "text/x-python",
   "name": "python",
   "nbconvert_exporter": "python",
   "pygments_lexer": "ipython3",
   "version": "3.7.2"
  }
 },
 "nbformat": 4,
 "nbformat_minor": 2
}
