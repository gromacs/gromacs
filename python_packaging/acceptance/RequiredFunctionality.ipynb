{
 "cells": [
  {
   "cell_type": "markdown",
   "metadata": {},
   "source": [
    "# Functional goals for 2019 Q2\n",
    "\n",
    "This notebook allows interactive exploration of the functionality targeted for the GROMACS master branch in 2019 Q2. \n",
    "\n",
    "For named features `fr0`, `fr1`, etcetera, you can build the `acceptance` docker image or download it from docker hub and run with, for example, `docker run --rm -p 8888:8888 gmxapi/acceptance:fr1`\n",
    "\n",
    "Note that there isn't a great way to use a Jupyter notebook as the front-end to an MPI job. The notebook can be converted to a script and run non-interactively.\n",
    "\n",
    "    jupyter nbconvert RequiredFunctionality.ipynb --to python\n",
    "    python RequiredFunctionality.py\n",
    "    # or\n",
    "    # mpiexec -n 2 python -m mpi4py RequiredFunctionality.py\n",
    "\n",
    "Before committing changes to this notebook, clear the output and/or run `python strip_notebook.py RequiredFunctionality.py`\n",
    "\n",
    "The `has_feature()` expressions allow cells with unimplemented features to raise `gmxapi.exceptions.FeatureError`,\n",
    "while an automated test can catch the first occurrence of this exception and exit cleanly."
   ]
  },
  {
   "cell_type": "code",
   "execution_count": null,
   "metadata": {},
   "outputs": [],
   "source": [
    "# Prepare notebook environment.\n",
    "import gmxapi as gmx\n",
    "from gmxapi.version import has_feature"
   ]
  },
  {
   "cell_type": "markdown",
   "metadata": {},
   "source": [
    "# Tests"
   ]
  },
  {
   "cell_type": "markdown",
   "metadata": {},
   "source": [
    "### fr1: wrap importable Python code.\n",
    "\n",
    "gmxapi compatible operations are implemented with simple machinery that allows compartmentalized progress on functionality to be highly decoupled from implementing user-facing tools. Tools are provided in `gmx.operation` and demonstrated by implementing `gmx.commandline_operation`."
   ]
  },
  {
   "cell_type": "code",
   "execution_count": null,
   "metadata": {},
   "outputs": [],
   "source": [
    "has_feature('fr1', enable_exception=True)\n",
    "# commandline_operation helper creates a set of operations\n",
    "# that includes the discovery and execution of the program\n",
    "# named in `executable`.\n",
    "\n",
    "operation = gmx.commandline_operation(executable='true')\n",
    "operation.run()\n",
    "# assert operation.output.returncode.result() == 0\n",
    "assert operation.output.returncode == 0\n",
    "\n",
    "operation = gmx.commandline_operation(executable='false')\n",
    "operation.run()\n",
    "assert operation.output.returncode == 1\n"
   ]
  },
  {
   "cell_type": "markdown",
   "metadata": {},
   "source": [
    "### fr2: output proxy establishes execution dependency\n"
   ]
  },
  {
   "cell_type": "code",
   "execution_count": null,
   "metadata": {},
   "outputs": [],
   "source": [
    "has_feature('fr2', enable_exception=True)\n",
    "# A sequence of two shell subcommands writes two lines to a temporary file.\n",
    "import os\n",
    "import tempfile\n",
    "with tempfile.TemporaryDirectory() as directory:\n",
    "    fh, filename = tempfile.mkstemp(dir=directory)\n",
    "    os.close(fh)\n",
    "\n",
    "    line1 = 'first line'\n",
    "    subcommand = ' '.join(['echo', '\"{}\"'.format(line1), '>>', filename])\n",
    "    commandline = ['-c', subcommand]\n",
    "    filewriter1 = gmx.commandline_operation('bash', arguments=commandline)\n",
    "\n",
    "    line2 = 'second line'\n",
    "    subcommand = ' '.join(['echo', '\"{}\"'.format(line2), '>>', filename])\n",
    "    commandline = ['-c', subcommand]\n",
    "    filewriter2 = gmx.commandline_operation('bash', arguments=commandline, input=filewriter1)\n",
    "\n",
    "    filewriter2.run()\n",
    "    # Check that the file has the two expected lines\n",
    "    with open(filename, 'r') as fh:\n",
    "        lines = [text.rstrip() for text in fh]\n",
    "    assert len(lines) == 2\n",
    "    assert lines[0] == line1\n",
    "    assert lines[1] == line2"
   ]
  },
  {
   "cell_type": "markdown",
   "metadata": {},
   "source": [
    "### fr3: output proxy can be used as input\n",
    "<!-- 25 February -->"
   ]
  },
  {
   "cell_type": "code",
   "execution_count": null,
   "metadata": {},
   "outputs": [],
   "source": [
    "has_feature('fr3', enable_exception=True)\n",
    "import stat\n",
    "with tempfile.TemporaryDirectory() as directory:\n",
    "    file1 = os.path.join(directory, 'input')\n",
    "    file2 = os.path.join(directory, 'output')\n",
    "\n",
    "    # Make a shell script that acts like the type of tool we are wrapping.\n",
    "    scriptname = os.path.join(directory, 'clicommand.sh')\n",
    "    with open(scriptname, 'w') as fh:\n",
    "        fh.writelines(['#!' + gmx.util.which('bash'),\n",
    "                       '# Concatenate an input file and a string argument to an output file.',\n",
    "                       '# Mock a utility with the tested syntax.',\n",
    "                       '#     clicommand.sh \"some words\" -i inputfile -o outputfile',\n",
    "                       'echo $1 | cat - $3 > $5'])\n",
    "    os.chmod(scriptname, stat.S_IRWXU)\n",
    "\n",
    "    line1 = 'first line'\n",
    "    filewriter1 = gmx.commandline_operation(scriptname,\n",
    "                                        input_files={'-i': os.devnull},\n",
    "                                        output_files={'-o': file1})\n",
    "\n",
    "    line2 = 'second line'\n",
    "    filewriter2 = gmx.commandline_operation(scriptname,\n",
    "                                        input_files={'-i': filewriter1.output.file['-o']},\n",
    "                                        output_files={'-o': file2})\n",
    "\n",
    "    filewriter2.run()\n",
    "    # Check that the files have the expected lines\n",
    "    with open(file1, 'r') as fh:\n",
    "        lines = [text.rstrip() for text in fh]\n",
    "    assert len(lines) == 1\n",
    "    assert lines[0] == line1\n",
    "    with open(file2, 'r') as fh:\n",
    "        lines = [text.rstrip() for text in fh]\n",
    "    assert len(lines) == 2\n",
    "    assert lines[0] == line1\n",
    "    assert lines[1] == line2"
   ]
  },
  {
   "cell_type": "markdown",
   "metadata": {},
   "source": [
    "### fr4: dimensionality and typing of named data causes generation of correct work topologies\n",
    "* gmx.logical_* operations allow optimizable manipulation of boolean values\n",
    "<!-- 27 February -->"
   ]
  },
  {
   "cell_type": "code",
   "execution_count": null,
   "metadata": {},
   "outputs": [],
   "source": [
    "has_feature('fr4', enable_exception=True)\n",
    "simulation_input = gmx.read_tpr(initial_tpr)\n",
    "\n",
    "# Array inputs imply array outputs.\n",
    "input_array = gmx.modify_input(\n",
    "    simulation_input, params={'tau-t': [t / 10.0 for t in range(N)]})\n",
    "\n",
    "md = gmx.mdrun(input_array)  # An array of simulations\n",
    "\n",
    "rmsf = gmx.commandline_operation(\n",
    "    'gmx',\n",
    "    'rmsf',\n",
    "    input={\n",
    "        '-f': md.output.trajectory,\n",
    "        '-s': initial_tpr\n",
    "    },\n",
    "    output={'-o': gmx.FileName(suffix='.xvg')})\n"
   ]
  },
  {
   "cell_type": "markdown",
   "metadata": {},
   "source": [
    "### fr5: explicit many-to-one or many-to-many data flow\n",
    "gmx.reduce() helper could simplify expression of operations dependent on gather while allowing under-the-hood optimizations.\n",
    "<!-- 5 March -->"
   ]
  },
  {
   "cell_type": "code",
   "execution_count": null,
   "metadata": {},
   "outputs": [],
   "source": [
    "has_feature('fr5', enable_exception=True)\n",
    "\n",
    "output_files = gmx.gather(rmsf.output.file['-o'])\n",
    "gmx.run()\n",
    "\n",
    "print('Output file list:')\n",
    "print(', '.join(output_files.result()))"
   ]
  },
  {
   "cell_type": "markdown",
   "metadata": {},
   "source": [
    "### fr7: Python bindings for launching simulations\n",
    "\n",
    "gmx.mdrun uses bindings to C++ API to launch simulations\n",
    "\n",
    "<!-- 27 February -->"
   ]
  },
  {
   "cell_type": "code",
   "execution_count": null,
   "metadata": {},
   "outputs": [],
   "source": [
    "has_feature('fr7', enable_exception=True)\n",
    "\n",
    "md = gmx.mdrun(tprfilename)\n",
    "md.run()\n",
    "# Note: can't verify that this is accomplished with C++ integration without exploring implementation details."
   ]
  },
  {
   "cell_type": "markdown",
   "metadata": {},
   "source": [
    "### fr8: gmx.mdrun understands ensemble work\n",
    "<!-- 1 March -->"
   ]
  },
  {
   "cell_type": "code",
   "execution_count": null,
   "metadata": {},
   "outputs": [],
   "source": [
    "has_feature('fr8', enable_exception=True)\n",
    "\n",
    "md = gmx.mdrun([tprfilename, tprfilename])\n",
    "md.run()\n",
    "# Maybe assert that two trajectory files with unique filesystem locations are produced?"
   ]
  },
  {
   "cell_type": "markdown",
   "metadata": {},
   "source": [
    "### fr9: MD plugins\n",
    "*gmx.mdrun supports interface for binding MD plugins*\n",
    "(requires interaction with library development)\n",
    "\n",
    "<!-- 1 March -->"
   ]
  },
  {
   "cell_type": "code",
   "execution_count": null,
   "metadata": {},
   "outputs": [],
   "source": [
    "has_feature('fr9', enable_exception=True)\n",
    "\n",
    "import sample_restraint\n",
    "\n",
    "starting_structure = 'input_conf.gro'\n",
    "topology_file = 'input.top'\n",
    "run_parameters = 'params.mdp'\n",
    "\n",
    "initial_tpr = gmx.commandline_operation(\n",
    "    'gmx',\n",
    "    'grompp',\n",
    "    input={\n",
    "        '-f': run_parameters,\n",
    "        '-c': starting_structure,\n",
    "        '-p': topology_file\n",
    "    },\n",
    "    output={'-o': gmx.OutputFile('.tpr')})\n",
    "\n",
    "simulation_input = gmx.read_tpr(initial_tpr.output.file['-o'])\n",
    "\n",
    "# Prepare a simple harmonic restraint between atoms 1 and 4\n",
    "restraint_params = {'sites': [1, 4],\n",
    "                    'R0': 2.0,\n",
    "                    'k': 10000.0}\n",
    "\n",
    "restraint = sample_restraint.harmonic_restraint(input=restraint_params)\n",
    "\n",
    "md = gmx.mdrun(input=simulation_input, potential=sample_restraint)\n",
    "\n",
    "#md.run()"
   ]
  },
  {
   "cell_type": "markdown",
   "metadata": {},
   "source": [
    "### fr10: fused operations for use in looping constructs\n",
    "* gmx.subgraph fuses operations\n",
    "* gmx.while creates an operation wrapping a dynamic number of iterations of a subgraph\n",
    "\n",
    "<!-- 10 March -->"
   ]
  },
  {
   "cell_type": "code",
   "execution_count": null,
   "metadata": {},
   "outputs": [],
   "source": [
    "has_feature('fr10', enable_exception=True)\n",
    "\n",
    "train = gmx.subgraph(variables={'conformation': initial_input})\n",
    "with train:\n",
    "    myplugin.training_restraint(\n",
    "        label='training_potential',\n",
    "        params=my_dict_params)\n",
    "    modified_input = gmx.modify_input(\n",
    "        input=initial_input, structure=train.conformation)\n",
    "    md = gmx.mdrun(input=modified_input, potential=train.training_potential)\n",
    "    # Alternate syntax to facilitate adding multiple potentials:\n",
    "    # md.interface.potential.add(train.training_potential)\n",
    "    brer_tools.training_analyzer(\n",
    "        label='is_converged',\n",
    "        params=train.training_potential.output.alpha)\n",
    "    train.conformation = md.output.conformation\n",
    "\n",
    "train_loop = gmx.while_loop(\n",
    "    operation=train,\n",
    "    condition=gmx.logical_not(train.is_converged))"
   ]
  },
  {
   "cell_type": "markdown",
   "metadata": {},
   "source": [
    "### fr11: Python access to TPR file contents\n",
    "* gmx.read_tpr utility provides access to TPR file contents\n",
    "* gmx.read_tpr operation produces output consumable by gmx.mdrun\n",
    "* gmx.mdrun produces gromacs.read_tpr node for tpr filename kwargs\n",
    "\n",
    "<!-- 1 March -->"
   ]
  },
  {
   "cell_type": "code",
   "execution_count": null,
   "metadata": {},
   "outputs": [],
   "source": [
    "has_feature('fr11', enable_exception=True)\n",
    "\n",
    "simulation_input = gmx.read_tpr(initial_tpr)\n",
    "nsteps = simulation_input.params('nsteps')\n",
    "md = gmx.mdrun(simulation_input)\n",
    "assert md.output.trajectory.step.result() == nsteps"
   ]
  },
  {
   "cell_type": "markdown",
   "metadata": {},
   "source": [
    "### fr12: Simulation checkpoint handling\n",
    "\n",
    "* gmx.mdrun is properly restartable\n",
    "\n",
    "This should be invisible to the user, and requires introspection and testing infrastructure to properly test (TBD).\n",
    "<!-- 8 March -->"
   ]
  },
  {
   "cell_type": "code",
   "execution_count": null,
   "metadata": {},
   "outputs": [],
   "source": [
    "has_feature('fr12', enable_exception=True)\n",
    "from gmxapi import testsupport\n",
    "\n",
    "simulation_input = gmx.read_tpr(initial_tpr)\n",
    "md = gmx.mdrun(simulation_input, label='md')\n",
    "interrupting_context = testsupport.interrupted_md(md)\n",
    "with interrupting_context as session:\n",
    "    first_half_md = session.md.run()\n",
    "md = gmx.mdrun(first_half_md, context=testsupport.inspect)\n",
    "testsupport.verify_restart(md)"
   ]
  },
  {
   "cell_type": "markdown",
   "metadata": {},
   "source": [
    "### fr13: ``run`` module function simplifies user experience\n",
    "\n",
    "* gmx.run finds and runs operations to produce expected output files\n",
    "* gmx.run handles ensemble work topologies\n",
    "* gmx.run handles multi-process execution\n",
    "* gmx.run safety checks to avoid data loss / corruption\n",
    "\n",
    "<!-- 8 March -->"
   ]
  },
  {
   "cell_type": "code",
   "execution_count": null,
   "metadata": {},
   "outputs": [],
   "source": [
    "has_feature('fr13', enable_exception=True)\n",
    "\n",
    "md = gmx.mdrun([tprfilename, tprfilename])\n",
    "gmx.run()"
   ]
  },
  {
   "cell_type": "markdown",
   "metadata": {},
   "source": [
    "### fr14: Easy access to GROMACS run time parameters\n",
    "\n",
    "* *gmx.run conveys run-time parameters to execution context*\n",
    "(requires interaction with library development)\n",
    "\n",
    "<!-- 15 March -->"
   ]
  },
  {
   "cell_type": "code",
   "execution_count": null,
   "metadata": {},
   "outputs": [],
   "source": [
    "has_feature('fr14', enable_exception=True)\n",
    "\n",
    "gmx.run(work, tmpi=20, grid=gmx.NDArray([3, 3, 2]), ntomp_pme=1, npme=2, ntomp=1)"
   ]
  },
  {
   "cell_type": "markdown",
   "metadata": {},
   "source": [
    "### fr15: Simulation input modification\n",
    "* *gmx.modify_input produces new (tpr) simulation input in data flow operation*\n",
    "(requires interaction with library development)\n",
    "* gmx.make_input dispatches appropriate preprocessing for file or in-memory simulation input.\n",
    "\n",
    "<!-- 15 March -->\n"
   ]
  },
  {
   "cell_type": "code",
   "execution_count": null,
   "metadata": {},
   "outputs": [],
   "source": [
    "has_feature('fr15', enable_exception=True)\n",
    "\n",
    "initial_input = gmx.read_tpr([tpr_filename for _ in range(10)])\n",
    "tau_t = list([i/10. for i in range(10)])\n",
    "param_sweep = gmx.modify_input(input=initial_input,\n",
    "                               parameters={ \n",
    "                                   'tau_t': tau_t\n",
    "                               }\n",
    "                              )\n",
    "md = gmx.mdrun(param_sweep)\n",
    "for tau_expected, tau_actual in zip(tau_t, md.output.params['tau_t'].extract()):\n",
    "    assert tau_expected == tau_actual"
   ]
  },
  {
   "cell_type": "markdown",
   "metadata": {},
   "source": [
    "### fr16: Create simulation input from simulation output\n",
    "* *gmx.make_input handles state from checkpoints*\n",
    "(requires interaction with library development)\n",
    "\n",
    "<!-- 22 March -->"
   ]
  },
  {
   "cell_type": "code",
   "execution_count": null,
   "metadata": {},
   "outputs": [],
   "source": [
    "has_feature('fr16', enable_exception=True)\n",
    "\n",
    "initial_input = gmx.read_tpr(tpr_filename)\n",
    "md = gmx.mdrun(initial_input)\n",
    "stage2_input = gmx.make_input(topology=initial_input,\n",
    "                              conformation=md.output,\n",
    "                              parameters=stage2_params,\n",
    "                              simulation_state=md.output)\n",
    "md = gmx.mdrun(stage2_input)\n",
    "md.run()"
   ]
  },
  {
   "cell_type": "markdown",
   "metadata": {},
   "source": [
    "### fr17: Prepare simulation input from multiple sources\n",
    "gmx.write_tpr (a facility used to implement higher-level functionality) merges tpr data (e.g. inputrec, structure, topology) into new file(s)\n",
    "<!-- 15 March -->"
   ]
  },
  {
   "cell_type": "code",
   "execution_count": null,
   "metadata": {},
   "outputs": [],
   "source": [
    "has_feature('fr17', enable_exception=True)\n",
    "\n",
    "gmx.fileio.write_tpr(filename=managed_filename, input=stage2_input)\n",
    "for key, value in gmx.fileio.read_tpr(managed_filename)['input']:\n",
    "    assert stage2_input[key] == value"
   ]
  },
  {
   "cell_type": "markdown",
   "metadata": {},
   "source": [
    "### fr18: GROMACS CLI tools receive improved Python-level support over generic commandline_operations\n",
    "* gmx.tool provides wrapping of unmigrated gmx CLI tools\n",
    "\n",
    "<!-- 10 March -->"
   ]
  },
  {
   "cell_type": "code",
   "execution_count": null,
   "metadata": {},
   "outputs": [],
   "source": [
    "has_feature('fr18', enable_exception=True)\n",
    "\n",
    "rmsf = gmx.tool.rmsf(trajectory=md.output.trajectory,\n",
    "                     structure=initial_tpr)\n",
    "output_files = gmx.gather(rmsf.output.file).result()"
   ]
  },
  {
   "cell_type": "markdown",
   "metadata": {},
   "source": [
    "### fr19: GROMACS CLI tools receive improved C++-level support over generic commandline_operations\n",
    "* gmx.tool uses Python bindings on C++ API for CLI modules (not testable at the UI level)\n",
    "\n",
    "<!-- 15 March -->"
   ]
  },
  {
   "cell_type": "code",
   "execution_count": null,
   "metadata": {},
   "outputs": [],
   "source": [
    "has_feature('fr19', enable_exception=True)\n",
    "\n",
    "rmsf = gmx.rmsf(trajectory=md.output.trajectory,\n",
    "                structure=initial_tpr)"
   ]
  },
  {
   "cell_type": "markdown",
   "metadata": {},
   "source": [
    "### fr20: Python bindings use C++ API for expressing user interface\n",
    "*gmx.tool operations are migrated to updated Options infrastructure*\n",
    "(requires interaction with library development)\n",
    "\n",
    "<!-- 5 April -->"
   ]
  },
  {
   "cell_type": "code",
   "execution_count": null,
   "metadata": {},
   "outputs": [],
   "source": [
    "has_feature('fr20', enable_exception=True)\n",
    "\n",
    "analysis = gmx.rmsf(trajectory=md.output.trajectory,\n",
    "                    topology=initial_input)\n",
    "file_list = gmx.fileio.write_xvg(analysis.output).result()"
   ]
  },
  {
   "cell_type": "markdown",
   "metadata": {},
   "source": [
    "### fr21 User insulated from filesystem paths\n",
    "* gmx.context manages data placement according to where operations run\n",
    "\n",
    "<!-- 8 March -->"
   ]
  },
  {
   "cell_type": "code",
   "execution_count": null,
   "metadata": {},
   "outputs": [],
   "source": [
    "output_files = gmx.gather(rmsf.output.file).result()\n",
    "testsupport.verify_unique_xvg_files(output_files)\n",
    "# Verify completeness of project sustainability goal in code review."
   ]
  },
  {
   "cell_type": "markdown",
   "metadata": {},
   "source": [
    "### fr22 MPI-based ensemble management from Python\n",
    "* gmx.context can own an MPI communicator and run ensembles of simulations.\n",
    "\n",
    "<!-- 22 March -->"
   ]
  },
  {
   "cell_type": "code",
   "execution_count": null,
   "metadata": {},
   "outputs": [],
   "source": [
    "has_feature('fr22', enable_exception=True)\n",
    "\n",
    "from mpi4py import MPI\n",
    "comm_world = MPI.COMM_WORLD\n",
    "\n",
    "group2 = comm_world.Get_group().Incl([0,1])\n",
    "ensemble_comm = comm_world.Create_group(group2)\n",
    "\n",
    "md = gmx.mdrun([tpr_filename for _ in range(2)])\n",
    "\n",
    "with gmx.get_context(md, communicator=ensemble_comm) as session:\n",
    "    session.run()\n",
    "\n",
    "ensemble_comm.Free()"
   ]
  },
  {
   "cell_type": "markdown",
   "metadata": {},
   "source": [
    "### fr23 Ensemble simulations can themselves use MPI\n",
    "*GROMACS simulation can use a set of subcommunicators from the comm owned by the client.*\n",
    "(requires interaction with library development)\n",
    "\n",
    "<!-- 19 April -->"
   ]
  },
  {
   "cell_type": "code",
   "execution_count": null,
   "metadata": {},
   "outputs": [],
   "source": [
    "has_feature('fr23', enable_exception=True)\n",
    "\n",
    "from mpi4py import MPI\n",
    "comm_world = MPI.COMM_WORLD\n",
    "\n",
    "md = gmx.mdrun([tpr_filename for _ in range(2)])\n",
    "\n",
    "with gmx.get_context(md, communicator=comm_world) as session:\n",
    "        session.run()\n",
    "\n",
    "md = gmx.mdrun([tpr_filename for _ in range(4)])\n",
    "\n",
    "\n",
    "with gmx.get_context(md, communicator=comm_world) as session:\n",
    "        session.run()"
   ]
  }
 ],
 "metadata": {
  "kernelspec": {
   "display_name": "Python 3",
   "language": "python",
   "name": "python3"
  },
  "language_info": {
   "codemirror_mode": {
    "name": "ipython",
    "version": 3
   },
   "file_extension": ".py",
   "mimetype": "text/x-python",
   "name": "python",
   "nbconvert_exporter": "python",
   "pygments_lexer": "ipython3",
   "version": "3.7.1"
  }
 },
 "nbformat": 4,
 "nbformat_minor": 2
}
